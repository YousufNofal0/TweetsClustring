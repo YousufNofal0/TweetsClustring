{
 "cells": [
  {
   "cell_type": "code",
   "execution_count": 1,
   "id": "43806978-2381-4dd6-b027-37dca53a5fea",
   "metadata": {},
   "outputs": [],
   "source": [
    "import pandas as pd\n",
    "import random as rd\n",
    "import math\n",
    "import string\n",
    "import matplotlib.pyplot as plt "
   ]
  },
  {
   "cell_type": "code",
   "execution_count": 2,
   "id": "295ab59c-ea2b-4dca-a06e-37a794216a8a",
   "metadata": {},
   "outputs": [],
   "source": [
    "#Cleansing\n",
    "def preprocessTweets(url):\n",
    "    df = pd.read_table(url, names = ['Tweet'])\n",
    "\n",
    "    df = df['Tweet'].str.split('|', expand=True)\n",
    "\n",
    "    #Removing URLs\n",
    "    df = df[[2]]\n",
    "    df[2] = df[2].str.replace(r'http\\S+', '', regex = True)\n",
    "    df[2] = df[2].str.replace(r'www\\S+', '', regex = True)\n",
    "    \n",
    "    #Removing mention\n",
    "    df[2] = df[2].str.replace(r'@\\S+', '', regex = True)\n",
    "\n",
    "    #Removing hashtag symbols\n",
    "    df[2] = df[2].str.replace(r'#', '', regex = True)\n",
    "\n",
    "    #Converting strings to lower case\n",
    "    df[2] = df[2].str.lower()\n",
    "    \n",
    "\n",
    "    tweetList = df[2].values.tolist()\n",
    "    listOfTweets = []\n",
    "\n",
    "    for i in range(len(tweetList)):\n",
    "        #Remove colons from the end of the sentences (if any) after removing url\n",
    "        tweetList[i] = tweetList[i].strip()\n",
    "        tweetLength = len(tweetList[i])\n",
    "        if tweetLength > 0:\n",
    "            if tweetList[i][len(tweetList[i]) - 1] == ':':\n",
    "                tweetList[i] = tweetList[i][:len(tweetList[i]) - 1]\n",
    "\n",
    "        #Remove punctuations\n",
    "        tweetList[i] = tweetList[i].translate(str.maketrans('', '', string.punctuation))\n",
    "\n",
    "        #Trim extra spaces\n",
    "        tweetList[i] = \" \".join(tweetList[i].split())\n",
    "        \n",
    "        #Convert the tweets into list of strings instead of strings\n",
    "        listOfTweets.append(tweetList[i].split(' '))\n",
    "\n",
    "\n",
    "    return listOfTweets"
   ]
  },
  {
   "cell_type": "code",
   "execution_count": 3,
   "id": "420890b9-e23a-4b2a-94a6-f9a00042a813",
   "metadata": {},
   "outputs": [],
   "source": [
    "#K-means implemented from Scratch\n",
    "def k_means(tweets, k=3, maxIterations=50):\n",
    "\n",
    "    centroids = []\n",
    "\n",
    "    #Initialize using random tweets as centroids.\n",
    "    count = 0\n",
    "    checkMap = dict()\n",
    "    while count < k:\n",
    "        randomTweetIdx = rd.randint(0, len(tweets) - 1)\n",
    "        if randomTweetIdx not in checkMap:\n",
    "            count += 1\n",
    "            checkMap[randomTweetIdx] = True\n",
    "            centroids.append(tweets[randomTweetIdx])\n",
    "\n",
    "    iterCount = 0\n",
    "    prevCentroids = []\n",
    "\n",
    "    #Iterate until a convergance happens or maximum iterations are reached\n",
    "    while (isConverged(prevCentroids, centroids)) == False and (iterCount < maxIterations):\n",
    "\n",
    "        print(\"running iteration \" + str(iterCount))\n",
    "\n",
    "        #Assign tweets for their centroids\n",
    "        clusters = assignCluster(tweets, centroids)\n",
    "\n",
    "        #Updating previous centroids\n",
    "        prevCentroids = centroids\n",
    "\n",
    "        #Update centroids based on clusters formed\n",
    "        centroids = updateCentroids(clusters)\n",
    "        iterCount = iterCount + 1\n",
    "\n",
    "    if (iterCount == maxIterations):\n",
    "        print(\"Max iterations reached, No convergence occurred :(\")\n",
    "    else:\n",
    "        print(\"Converged successfully\")\n",
    "\n",
    "    sse = getSSE(clusters)\n",
    "\n",
    "    return clusters, sse\n",
    "\n",
    "\n",
    "def isConverged(prevCentroids, newCentroids):\n",
    "\n",
    "    #False if lengths are not equal\n",
    "    if len(prevCentroids) != len(newCentroids):\n",
    "        return False\n",
    "\n",
    "    #Iterate over each entry of clusters and check if they are the same\n",
    "    for c in range(len(newCentroids)):\n",
    "        if \" \".join(newCentroids[c]) != \" \".join(prevCentroids[c]):\n",
    "            return False\n",
    "\n",
    "    return True\n",
    "\n",
    "\n",
    "def assignCluster(tweets, centroids):\n",
    "\n",
    "    clusters = dict()\n",
    "\n",
    "    #For every tweet iterate each centroid and assign it to the closest centroid\n",
    "    for t in range(len(tweets)):\n",
    "        minDistance = math.inf ##math.inf --> infinity like maxint in c & cpp##\n",
    "        clusterIdx = -1\n",
    "        for c in range(len(centroids)):\n",
    "            dis = getDistance(centroids[c], tweets[t])\n",
    "            #Look for the closest centroid for a tweet\n",
    "\n",
    "            if centroids[c] == tweets[t]:\n",
    "                clusterIdx = c\n",
    "                minDistance = 0\n",
    "                break\n",
    "\n",
    "            if dis < minDistance:\n",
    "                clusterIdx = c\n",
    "                minDistance = dis\n",
    "\n",
    "        #If nothing is common then the tweet is assigned to a random centroid (Jaccard distance will be 1)\n",
    "        if minDistance == 1:\n",
    "            clusterIdx = rd.randint(0, len(centroids) - 1)\n",
    "\n",
    "        #Assign the closest centroid to a tweet\n",
    "        clusters.setdefault(clusterIdx, []).append([tweets[t]])\n",
    "\n",
    "        #Add the tweet distance from its closest centroid to compute sse in the end\n",
    "        lastTweetIdx = len(clusters.setdefault(clusterIdx, [])) - 1\n",
    "        clusters.setdefault(clusterIdx, [])[lastTweetIdx].append(minDistance)\n",
    "\n",
    "    return clusters\n",
    "\n",
    "\n",
    "def updateCentroids(clusters):\n",
    "\n",
    "    centroids = []\n",
    "\n",
    "    #Iterate each cluster and check for a new centroid from the existing tweet\n",
    "    for c in range(len(clusters)):\n",
    "        minDistanceSum = math.inf\n",
    "        centroidIdx = -1\n",
    "\n",
    "        #To avoid repeated calculations, save the calculated lengths between tweets.\n",
    "        minDistanceDp = []\n",
    "\n",
    "        for t1 in range(len(clusters[c])):\n",
    "            minDistanceDp.append([])\n",
    "            distanceSum = 0\n",
    "            #Get distances sum for every of tweet t1 with every tweet t2 in a same cluster\n",
    "            for t2 in range(len(clusters[c])):\n",
    "                if t1 != t2:\n",
    "                    if t2 < t1:\n",
    "                        dis = minDistanceDp[t2][t1]\n",
    "                    else:\n",
    "                        dis = getDistance(clusters[c][t1][0], clusters[c][t2][0])\n",
    "\n",
    "                    minDistanceDp[t1].append(dis)\n",
    "                    distanceSum += dis\n",
    "                else:\n",
    "                    minDistanceDp[t1].append(0)\n",
    "\n",
    "            #Select the tweet with the minimum distance from all to be the new centroid\n",
    "            if distanceSum < minDistanceSum:\n",
    "                minDistanceSum = distanceSum\n",
    "                centroidIdx = t1\n",
    "\n",
    "        #Append the selected tweet to the centroid list\n",
    "        centroids.append(clusters[c][centroidIdx][0])\n",
    "\n",
    "    return centroids\n",
    "\n",
    "\n",
    "def getDistance(tweet1, tweet2):\n",
    "\n",
    "    #Get the intersection\n",
    "    intersection = set(tweet1).intersection(tweet2)\n",
    "    #Get the union\n",
    "    union = set().union(tweet1, tweet2)\n",
    "\n",
    "    #Return the jaccard distance\n",
    "    return 1 - (len(intersection) / len(union))"
   ]
  },
  {
   "cell_type": "code",
   "execution_count": 4,
   "id": "0e474be8-320b-43fb-9b31-21afe244aaad",
   "metadata": {},
   "outputs": [],
   "source": [
    "def getSSE(clusters):\n",
    "\n",
    "    sse = 0\n",
    "    #Iterate every cluster 'c', compute SSE as the sum of square of distances of the tweet from it's centroid\n",
    "    for c in range(len(clusters)):\n",
    "        for t in range(len(clusters[c])):\n",
    "            sse = sse + (clusters[c][t][1] * clusters[c][t][1]) \n",
    "\n",
    "    return sse"
   ]
  },
  {
   "cell_type": "code",
   "execution_count": 5,
   "id": "037be175-a348-454b-b835-e68efa581b34",
   "metadata": {},
   "outputs": [
    {
     "name": "stdin",
     "output_type": "stream",
     "text": [
      "Enter your choice: 1) for running on default settings \t 2) to adjust \"k\", \"no. of experiments\" or \"URL\" \n",
      " 1\n"
     ]
    },
    {
     "name": "stdout",
     "output_type": "stream",
     "text": [
      "------- Running K-means for experiment no. 1 for k = 3 ------\n",
      "running iteration 0\n",
      "running iteration 1\n",
      "Converged successfully\n",
      "1:  882 tweets\n",
      "2:  1519 tweets\n",
      "3:  1528 tweets\n",
      "--> SSE: 3419.8421860448216\n",
      "Wait for the scatter plot... \n"
     ]
    },
    {
     "data": {
      "image/png": "[encoded data removed]",
      "text/plain": [
       "<Figure size 432x288 with 1 Axes>"
      ]
     },
     "metadata": {
      "needs_background": "light"
     },
     "output_type": "display_data"
    },
    {
     "name": "stdout",
     "output_type": "stream",
     "text": [
      "---------------------------------------------------\n",
      "\n",
      "\n",
      "------- Running K-means for experiment no. 2 for k = 4 ------\n",
      "running iteration 0\n",
      "running iteration 1\n",
      "Converged successfully\n",
      "1:  1372 tweets\n",
      "2:  790 tweets\n",
      "3:  872 tweets\n",
      "4:  895 tweets\n",
      "--> SSE: 3410.7801335693666\n",
      "Wait for the scatter plot... \n"
     ]
    },
    {
     "data": {
      "image/png": "[encoded data removed]",
      "text/plain": [
       "<Figure size 432x288 with 1 Axes>"
      ]
     },
     "metadata": {
      "needs_background": "light"
     },
     "output_type": "display_data"
    },
    {
     "name": "stdout",
     "output_type": "stream",
     "text": [
      "---------------------------------------------------\n",
      "\n",
      "\n",
      "------- Running K-means for experiment no. 3 for k = 5 ------\n",
      "running iteration 0\n",
      "running iteration 1\n",
      "Converged successfully\n",
      "1:  1251 tweets\n",
      "2:  496 tweets\n",
      "3:  601 tweets\n",
      "4:  907 tweets\n",
      "5:  674 tweets\n",
      "--> SSE: 3332.2510800322093\n",
      "Wait for the scatter plot... \n"
     ]
    },
    {
     "data": {
      "image/png": "[encoded data removed]",
      "text/plain": [
       "<Figure size 432x288 with 1 Axes>"
      ]
     },
     "metadata": {
      "needs_background": "light"
     },
     "output_type": "display_data"
    },
    {
     "name": "stdout",
     "output_type": "stream",
     "text": [
      "---------------------------------------------------\n",
      "\n",
      "\n",
      "------- Running K-means for experiment no. 4 for k = 6 ------\n",
      "running iteration 0\n",
      "running iteration 1\n",
      "running iteration 2\n",
      "Converged successfully\n",
      "1:  804 tweets\n",
      "2:  612 tweets\n",
      "3:  515 tweets\n",
      "4:  390 tweets\n",
      "5:  743 tweets\n",
      "6:  865 tweets\n",
      "--> SSE: 3275.0711489251744\n",
      "Wait for the scatter plot... \n"
     ]
    },
    {
     "data": {
      "image/png": "[encoded data removed]",
      "text/plain": [
       "<Figure size 432x288 with 1 Axes>"
      ]
     },
     "metadata": {
      "needs_background": "light"
     },
     "output_type": "display_data"
    },
    {
     "name": "stdout",
     "output_type": "stream",
     "text": [
      "---------------------------------------------------\n",
      "\n",
      "\n",
      "------- Running K-means for experiment no. 5 for k = 7 ------\n",
      "running iteration 0\n",
      "running iteration 1\n",
      "Converged successfully\n",
      "1:  901 tweets\n",
      "2:  381 tweets\n",
      "3:  637 tweets\n",
      "4:  674 tweets\n",
      "5:  479 tweets\n",
      "6:  520 tweets\n",
      "7:  337 tweets\n",
      "--> SSE: 3267.87571597749\n",
      "Wait for the scatter plot... \n"
     ]
    },
    {
     "data": {
      "image/png": "[encoded data removed]",
      "text/plain": [
       "<Figure size 432x288 with 1 Axes>"
      ]
     },
     "metadata": {
      "needs_background": "light"
     },
     "output_type": "display_data"
    },
    {
     "name": "stdout",
     "output_type": "stream",
     "text": [
      "---------------------------------------------------\n",
      "\n",
      "\n"
     ]
    }
   ],
   "source": [
    "choice = input('Enter your choice: 1) for running on default settings \\t 2) to adjust \"k\", \"no. of experiments\" or \"URL\" \\n')\n",
    "url = 'Tweets/bbchealth.txt'\n",
    "k = 3\n",
    "experiments = 5\n",
    "\n",
    "while choice != '1':\n",
    "    while choice == '2':\n",
    "        print(\"------- Default url: \" + str(url) + \"\\t Default no. of experiments: \" + str(experiments) + \"\\t Default value for K: \" + str(k) + \" ------\")\n",
    "        print(\"Choose an action: a) To change the URL \\t b) To change the default no. of experiments \\t c) To change the default value of K\")\n",
    "        print(\"Any other character to continue with current values\")\n",
    "        decision = input()\n",
    "        decision = decision.lower()\n",
    "        if decision == 'a':\n",
    "            url = input(\"Enter a valid url: \")\n",
    "        elif decision == 'b':\n",
    "            experiments = int(input(\"Enter the desired no. of experiments: \"))\n",
    "        elif decision == 'c':\n",
    "            k = int(input(\"Enter the desired value for k: \"))\n",
    "        else:\n",
    "            choice = 1\n",
    "            break\n",
    "        print(\"Enter 1 to exit, or 2 to modify anything again.\")\n",
    "        choice = input()\n",
    "\n",
    "    if choice != '1' and choice != '2':\n",
    "        print(\"INVALID CHOICE, TRY AGAIN!\")\n",
    "        choice = input('Enter your choice: 1) for running on default settings \\t 2) to adjust or view \"k\", \"no. of experiments\" or \"URL\" \\n')\n",
    "\n",
    "\n",
    "\n",
    "tweets = preprocessTweets(url)\n",
    "#The lists that contain SSEs and Ks for plotting.\n",
    "SSE = []\n",
    "K = range(k, k + experiments)\n",
    "\n",
    "#For every experiment 'e', run K-means.\n",
    "for e in range(experiments):\n",
    "    print(\"------- Running K-means for experiment no. \" + str((e + 1)) + \" for k = \" + str(k) + \" ------\")\n",
    "\n",
    "    clusters, sse = k_means(tweets, k)\n",
    "    SSE.append(sse)\n",
    "\n",
    "    x = ['SSE']\n",
    "    y = [sse]\n",
    "\n",
    "    for c in range(len(clusters)):\n",
    "        print(str(c+1) + \": \", str(len(clusters[c])) + \" tweets\")\n",
    "        x.append('Cluster #'+str(c+1))\n",
    "        y.append(len(clusters[c]))\n",
    "\n",
    "    \n",
    "    print(\"--> SSE: \" + str(sse))\n",
    "    print('Wait for the scatter plot... ')\n",
    "\n",
    "    plt.figure('The Required Plot')\n",
    "    plt.title('SSE & Cluster Sizes for Experiment: ' + str(e+1))\n",
    "    plt.scatter(x, y)\n",
    "    plt.show()\n",
    "    print(\"---------------------------------------------------\")\n",
    "    print('\\n')\n",
    "\n",
    "    #Incrementing k so for applying the elbow method.\n",
    "    k+=1\n"
   ]
  },
  {
   "cell_type": "code",
   "execution_count": 6,
   "id": "2f71ee50-4c08-41b3-a560-5eb70713db53",
   "metadata": {},
   "outputs": [
    {
     "data": {
      "image/png": "[encoded data removed]",
      "text/plain": [
       "<Figure size 432x288 with 1 Axes>"
      ]
     },
     "metadata": {
      "needs_background": "light"
     },
     "output_type": "display_data"
    }
   ],
   "source": [
    "#To plot the graph for the elbow method.\n",
    "plt.figure(\"K-SSE graph\")\n",
    "plt.plot(K, SSE, 'bx-')\n",
    "plt.xticks(range(k-experiments, k+1, 1))\n",
    "plt.xlabel('k')\n",
    "plt.ylabel('SSE')\n",
    "plt.title('The Elbow Method showing the optimal k')\n",
    "plt.show()"
   ]
  }
 ],
 "metadata": {
  "kernelspec": {
   "display_name": "Python 3 (ipykernel)",
   "language": "python",
   "name": "python3"
  },
  "language_info": {
   "codemirror_mode": {
    "name": "ipython",
    "version": 3
   },
   "file_extension": ".py",
   "mimetype": "text/x-python",
   "name": "python",
   "nbconvert_exporter": "python",
   "pygments_lexer": "ipython3",
   "version": "3.9.12"
  }
 },
 "nbformat": 4,
 "nbformat_minor": 5
}
